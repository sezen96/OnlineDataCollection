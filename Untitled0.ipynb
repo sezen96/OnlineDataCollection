{
  "nbformat": 4,
  "nbformat_minor": 0,
  "metadata": {
    "colab": {
      "name": "Untitled0.ipynb",
      "provenance": [],
      "collapsed_sections": [],
      "include_colab_link": true
    },
    "kernelspec": {
      "name": "python3",
      "display_name": "Python 3"
    },
    "language_info": {
      "name": "python"
    }
  },
  "cells": [
    {
      "cell_type": "markdown",
      "metadata": {
        "id": "view-in-github",
        "colab_type": "text"
      },
      "source": [
        "<a href=\"https://colab.research.google.com/github/efekiremitci97/OnlineDataCollection/blob/main/Untitled0.ipynb\" target=\"_parent\"><img src=\"https://colab.research.google.com/assets/colab-badge.svg\" alt=\"Open In Colab\"/></a>"
      ]
    },
    {
      "cell_type": "code",
      "metadata": {
        "id": "9XbVQOqvEYBM"
      },
      "source": [
        "import requests\n",
        "from bs4 import BeautifulSoup"
      ],
      "execution_count": 51,
      "outputs": []
    },
    {
      "cell_type": "code",
      "metadata": {
        "id": "_aWXg4q5Ekg-"
      },
      "source": [
        "url = 'https://coinmarketcap.com/all/views/all/'\n",
        "res = requests.get(url)\n",
        "soup = BeautifulSoup(res.text, \"html.parser\")\n"
      ],
      "execution_count": null,
      "outputs": []
    },
    {
      "cell_type": "code",
      "metadata": {
        "colab": {
          "base_uri": "https://localhost:8080/",
          "height": 317
        },
        "id": "JV5qjxrlErOr",
        "outputId": "2f773e45-8a9c-446b-febc-f563b3915b64"
      },
      "source": [
        "#return the request to the cryptos overview page\n",
        "for link in soup.find_all(\"a\"): \n",
        "    print(link.attrs[\"href\"])"
      ],
      "execution_count": null,
      "outputs": [
        {
          "output_type": "stream",
          "name": "stdout",
          "text": [
            "/\n",
            "/rankings/exchanges/\n",
            "/charts/\n",
            "/charts/\n",
            "/charts/#dominance-percentage\n"
          ]
        },
        {
          "output_type": "error",
          "ename": "KeyError",
          "evalue": "ignored",
          "traceback": [
            "\u001b[0;31m---------------------------------------------------------------------------\u001b[0m",
            "\u001b[0;31mKeyError\u001b[0m                                  Traceback (most recent call last)",
            "\u001b[0;32m<ipython-input-14-64c566fa46af>\u001b[0m in \u001b[0;36m<module>\u001b[0;34m()\u001b[0m\n\u001b[1;32m      1\u001b[0m \u001b[0;31m#return the request to the cryptos overview page\u001b[0m\u001b[0;34m\u001b[0m\u001b[0;34m\u001b[0m\u001b[0;34m\u001b[0m\u001b[0m\n\u001b[1;32m      2\u001b[0m \u001b[0;32mfor\u001b[0m \u001b[0mlink\u001b[0m \u001b[0;32min\u001b[0m \u001b[0msoup\u001b[0m\u001b[0;34m.\u001b[0m\u001b[0mfind_all\u001b[0m\u001b[0;34m(\u001b[0m\u001b[0;34m\"a\"\u001b[0m\u001b[0;34m)\u001b[0m\u001b[0;34m:\u001b[0m\u001b[0;34m\u001b[0m\u001b[0;34m\u001b[0m\u001b[0m\n\u001b[0;32m----> 3\u001b[0;31m     \u001b[0mprint\u001b[0m\u001b[0;34m(\u001b[0m\u001b[0mlink\u001b[0m\u001b[0;34m.\u001b[0m\u001b[0mattrs\u001b[0m\u001b[0;34m[\u001b[0m\u001b[0;34m\"href\"\u001b[0m\u001b[0;34m]\u001b[0m\u001b[0;34m)\u001b[0m\u001b[0;34m\u001b[0m\u001b[0;34m\u001b[0m\u001b[0m\n\u001b[0m",
            "\u001b[0;31mKeyError\u001b[0m: 'href'"
          ]
        }
      ]
    },
    {
      "cell_type": "code",
      "metadata": {
        "colab": {
          "base_uri": "https://localhost:8080/",
          "height": 35
        },
        "id": "va9fMo09FBzT",
        "outputId": "18ff4a7a-627f-4046-c570-8004ce265d5e"
      },
      "source": [
        "# get inital framework\n",
        "\n",
        "\n",
        "url = 'https://coinmarketcap.com/all/views/all/'\n",
        "res = requests.get(url)\n",
        "soup = BeautifulSoup(res.text, \"html.parser\")\n",
        "\n",
        "\n",
        "soup.find_all(class_=\"sc-1ibw5f9-0 bpOMHJ cmc-table__column-name cmc-table__column-name--narrow-layout\")[0].find(\"a\").attrs[\"href\"]\n"
      ],
      "execution_count": null,
      "outputs": [
        {
          "output_type": "execute_result",
          "data": {
            "application/vnd.google.colaboratory.intrinsic+json": {
              "type": "string"
            },
            "text/plain": [
              "'/currencies/bitcoin/'"
            ]
          },
          "metadata": {},
          "execution_count": 15
        }
      ]
    },
    {
      "cell_type": "code",
      "metadata": {
        "colab": {
          "base_uri": "https://localhost:8080/"
        },
        "id": "bir0e-uYFFvR",
        "outputId": "d58661b9-8b1d-4966-8afd-776d5c03d61a"
      },
      "source": [
        "url_crypto = soup.find_all(class_=\"sc-1ibw5f9-0 bpOMHJ cmc-table__column-name cmc-table__column-name--narrow-layout\")[1].find(\"a\").attrs[\"href\"]\n",
        "print(\"https://coinmarketcap.com\" + url_crypto)"
      ],
      "execution_count": 31,
      "outputs": [
        {
          "output_type": "stream",
          "name": "stdout",
          "text": [
            "https://coinmarketcap.com/currencies/ethereum/\n"
          ]
        }
      ]
    },
    {
      "cell_type": "code",
      "metadata": {
        "colab": {
          "base_uri": "https://localhost:8080/"
        },
        "id": "dTUtQWtoFJU5",
        "outputId": "7ac19bd1-4993-4ec5-f555-7366dc6e2b1c"
      },
      "source": [
        "# find URLs for the cryptos\n",
        "\n",
        "\n",
        "cryptos = soup.find_all(class_=\"sc-1ibw5f9-0 bpOMHJ cmc-table__column-name cmc-table__column-name--narrow-layout\")\n",
        "url_cryptos = []\n",
        "\n",
        "for crypto in cryptos: \n",
        "    url_crypto = crypto.find(\"a\").attrs[\"href\"]\n",
        "    url_cryptos.append(url_crypto)\n",
        "    \n",
        "# print the first five urls\n",
        "print(url_cryptos[:19])"
      ],
      "execution_count": 43,
      "outputs": [
        {
          "output_type": "stream",
          "name": "stdout",
          "text": [
            "['/currencies/bitcoin/', '/currencies/ethereum/', '/currencies/tether/', '/currencies/cardano/', '/currencies/binance-coin/', '/currencies/xrp/', '/currencies/solana/', '/currencies/usd-coin/', '/currencies/polkadot-new/', '/currencies/dogecoin/', '/currencies/avalanche/', '/currencies/terra-luna/', '/currencies/uniswap/', '/currencies/binance-usd/', '/currencies/chainlink/', '/currencies/litecoin/', '/currencies/algorand/', '/currencies/bitcoin-cash/', '/currencies/wrapped-bitcoin/']\n"
          ]
        }
      ]
    },
    {
      "cell_type": "code",
      "metadata": {
        "id": "uzefif62vQ_f"
      },
      "source": [
        "# Question 2\n",
        "def extract_bitcoin_urls(page_urls):\n",
        "    '''collect the crypto title and url for every crypto on all page urls'''\n",
        "    url_cryptos = []\n",
        "    \n",
        "    # this part is the same as above\n",
        "    for page_url in page_urls: \n",
        "        res = requests.get(page_url)\n",
        "        soup = BeautifulSoup(res.text, \"html.parser\")\n",
        "        cryptos = soup.find_all(class_=\"sc-2qtjgt-0 eApVPN\")\n",
        "\n",
        "        for crypto in cryptos: \n",
        "            crypto_title = crypto.find(\"h2\").attrs[\"p\"]  \n",
        "            url_crypto = (\"https://coinmarketcap.com\" + crypto.find(\"h2\").attrs[\"p\"])\n",
        "            crypto_list.append({\"title\": crypto_title,\n",
        "                             \"url\": url_crypto}) \n",
        "            \n",
        "          \n",
        "    print(crypto_list)\n",
        "\n",
        "\n",
        "\n",
        "\n"
      ],
      "execution_count": 55,
      "outputs": []
    },
    {
      "cell_type": "code",
      "metadata": {
        "id": "frgN8TsV9Y5v"
      },
      "source": [
        "def extract_crypto_definition(crypto_definition):\n",
        "    '''collect the crypto title and definition for every book on all page urls'''\n",
        "    crypto_list = []\n",
        "    \n",
        "    for crypto_definition in crypto_definitions: \n",
        "        res = requests.get(crypto_definitions)\n",
        "        soup = BeautifulSoup(res.text, \"html.parser\")\n",
        "        cryptos = soup.find_all(class_=\"sc-2qtjgt-0 eApVPN\")\n",
        "\n",
        "        for crypto in cryptos: \n",
        "            crypto_title = crypto.find(\"h2\").attrs[\"id\"] \n",
        "            crypto_url = \"https://coinmarketcap.com/currencies/bitcoin/\" + crypto.find(\"h2\").attrs[\"id\"]\n",
        "            crypto_definition_2 = crypto.find(\"p\", class_=\"sc-2qtjgt-0 eApVPN\").text\n",
        "            \n",
        "            \n",
        "            crypto_list.append({\"title\": crypto_title,\n",
        "                             \"url\": url_crypto,\n",
        "                             \"definition\": crypto_definition_2})"
      ],
      "execution_count": 61,
      "outputs": []
    }
  ]
}